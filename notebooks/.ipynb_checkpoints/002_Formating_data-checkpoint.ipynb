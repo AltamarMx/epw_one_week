{
 "cells": [
  {
   "cell_type": "code",
   "execution_count": 1,
   "id": "4b0fff86",
   "metadata": {},
   "outputs": [],
   "source": [
    "import pandas as pd\n",
    "import matplotlib.pyplot as plt"
   ]
  },
  {
   "cell_type": "code",
   "execution_count": 2,
   "id": "fbebef52",
   "metadata": {},
   "outputs": [],
   "source": [
    "f = \"../data/002_processed/3marzo2018.csv\"\n",
    "data = pd.read_csv(f,index_col=0,parse_dates=True)\n",
    "# data.plot(subplots=True)"
   ]
  },
  {
   "cell_type": "code",
   "execution_count": 3,
   "id": "9028ce70",
   "metadata": {},
   "outputs": [],
   "source": [
    "data[\"mdY\"]  = data.index.strftime(\"%m/%d/%Y\")\n",
    "data[\"HHMM\"] = data.index.strftime(\"%H:%M\")\n"
   ]
  },
  {
   "cell_type": "code",
   "execution_count": 4,
   "id": "e978c9ea",
   "metadata": {},
   "outputs": [
    {
     "name": "stdout",
     "output_type": "stream",
     "text": [
      "<class 'pandas.core.frame.DataFrame'>\n",
      "DatetimeIndex: 1008 entries, 2018-03-04 00:00:00 to 2018-03-10 23:50:00\n",
      "Data columns (total 10 columns):\n",
      " #   Column  Non-Null Count  Dtype  \n",
      "---  ------  --------------  -----  \n",
      " 0   Ib      1008 non-null   float64\n",
      " 1   Ig      1008 non-null   float64\n",
      " 2   Id      1008 non-null   float64\n",
      " 3   To      1008 non-null   float64\n",
      " 4   HR      1008 non-null   float64\n",
      " 5   WS      1008 non-null   float64\n",
      " 6   P       1008 non-null   float64\n",
      " 7   WD      1008 non-null   float64\n",
      " 8   mdY     1008 non-null   object \n",
      " 9   HHMM    1008 non-null   object \n",
      "dtypes: float64(8), object(2)\n",
      "memory usage: 86.6+ KB\n"
     ]
    }
   ],
   "source": [
    "data.info()"
   ]
  },
  {
   "cell_type": "code",
   "execution_count": 5,
   "id": "1aa0ae8a",
   "metadata": {},
   "outputs": [],
   "source": [
    "f = \"../epw/Tmx_marzo.csv\"\n",
    "data[[\"mdY\",\"HHMM\",\"To\",\"HR\",\"WS\",\"WD\",\"P\",\"Ig\",\"Id\"]].iloc[1:].to_csv(\n",
    "    f,\n",
    "    header=None,\n",
    "    index=None\n",
    ")"
   ]
  },
  {
   "cell_type": "markdown",
   "id": "b66d6233",
   "metadata": {},
   "source": [
    "```\n",
    "&location\n",
    "City = <cityname >\n",
    "StateProv = <state/province >\n",
    "Country = <country >\n",
    "InWMO = <wmo>\n",
    "InLat = <latitude >\n",
    "InLong = <longitude >\n",
    "InElev = <elevation >\n",
    "InTime = <timezone >\n",
    "/\n",
    "&wthdata\n",
    "NumInHour = 1\n",
    "InputFileType = 'CUSTOM'\n",
    "InFormat = 'DELIMITED '\n",
    "DataElements = Date,HH:MM,Datasource ,Dry Bulb Temperature ,Dew Point Temperature ,Relative Humidity ,\n",
    "Atmospheric Pressure ,Extraterrestrial Horizontal Radiation ,Extraterrestrial Direct Normal Radiation ,\n",
    "Horizontal Infrared Radiation Intensity from Sky,Global Horizontal Radiation ,Direct Normal Radiation ,\n",
    "Diffuse Horizontal Radiation ,Global Horizontal Illuminance ,Direct Normal Illuminance ,Diffuse\n",
    "Horizontal Illuminance ,Zenith Luminance ,Wind Direction ,Wind Speed,Total Sky Cover,Opaque Sky Cover,\n",
    "Visibility ,Ceiling Height,Present Weather Observation ,Present Weather Codes,Precipitable Water,\n",
    "Aerosol Optical Depth,Snow Depth,Days Since Last Snow,Albedo,Liquid Precipitation Depth,Liquid\n",
    "Precipitation Quantity\n",
    "DataUnits = 'mm.dd.yyyy','hh:mm','x','x','x','x','C','C','%','Pa','Wh/m2','Wh/m2','Wh/m2','Wh/m2','Wh/m2\n",
    "','Wh/m2','lux','lux','lux','Cd/m2','deg','m/s','tenths','tenths','km','m','x','x','mm','{.001}','cm\n",
    "','x','{.01}','mm','hr'\n",
    "DataConversionFactors = 1,1,1,1,1,1,1,1,1,1,1,1,1,1,1,1,1,1,1,1,1,1,1,1,1,1,1,1,1,1,1,1,1,1,1\n",
    "DelimiterChar = ';'\n",
    "DateSeparator = '.'\n",
    "DecimalSymbolChar = ','\n",
    "/\n",
    "&datacontrol\n",
    "NumRecordsToSkip = 19\n",
    "MaxNumRecordsToRead = 8784\n",
    "MissingWindDirAction = RANDOM\n",
    "/\n",
    "DataUnits = 'mm.dd.yyyy','hh:mm','x','x','x','x','C','C','%','Pa','Wh/m2','Wh/m2','Wh/m2','Wh/m2','Wh/m2\n",
    "','Wh/m2','lux','lux','lux','Cd/m2','deg','m/s','tenths','tenths','km','m','x','x','mm','{.001}','cm\n",
    "','x','{.01}','mm','hr'\n",
    "DataConversionFactors = 1,1,1,1,1,1,1,1,1,1,1,1,1,1,1,1,1,1,1,1,1,1,1,1,1,1,1,1,1,1,1,1,1,1,1\n",
    "DelimiterChar = ';'\n",
    "DateSeparator = '.'\n",
    "DecimalSymbolChar = ','\n",
    "/\n",
    "&datacontrol\n",
    "NumRecordsToSkip = 19\n",
    "MaxNumRecordsToRead = 8784\n",
    "MissingWindDirAction = RANDOM\n",
    "/\n",
    "\n",
    "```"
   ]
  },
  {
   "cell_type": "code",
   "execution_count": null,
   "id": "92111d3e",
   "metadata": {},
   "outputs": [],
   "source": []
  }
 ],
 "metadata": {
  "kernelspec": {
   "display_name": "Python 3 (ipykernel)",
   "language": "python",
   "name": "python3"
  },
  "language_info": {
   "codemirror_mode": {
    "name": "ipython",
    "version": 3
   },
   "file_extension": ".py",
   "mimetype": "text/x-python",
   "name": "python",
   "nbconvert_exporter": "python",
   "pygments_lexer": "ipython3",
   "version": "3.10.9"
  }
 },
 "nbformat": 4,
 "nbformat_minor": 5
}
