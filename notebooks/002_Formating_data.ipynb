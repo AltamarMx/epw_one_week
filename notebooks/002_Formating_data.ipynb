{
 "cells": [
  {
   "cell_type": "code",
   "execution_count": 5,
   "id": "4b0fff86",
   "metadata": {},
   "outputs": [],
   "source": [
    "import pandas as pd\n",
    "import matplotlib.pyplot as plt"
   ]
  },
  {
   "cell_type": "code",
   "execution_count": 6,
   "id": "fbebef52",
   "metadata": {},
   "outputs": [],
   "source": [
    "f = \"../data/002_processed/3marzo2018.csv\"\n",
    "data = pd.read_csv(f,index_col=0,parse_dates=True)\n",
    "\n"
   ]
  },
  {
   "cell_type": "code",
   "execution_count": 7,
   "id": "9028ce70",
   "metadata": {},
   "outputs": [],
   "source": [
    "data[\"mdY\"]  = data.index.strftime(\"%m/%d/%Y\")\n",
    "data[\"HHMM\"] = data.index.strftime(\"%H:%M\")\n"
   ]
  },
  {
   "cell_type": "code",
   "execution_count": 8,
   "id": "1aa0ae8a",
   "metadata": {},
   "outputs": [],
   "source": [
    "f = \"../epw/Tmx_marzo.csv\"\n",
    "data[[\"mdY\",\"HHMM\",\"To\",\"HR\",\"WS\",\"WD\",\"P\",\"Ig\",\"Id\",\"Ib\"]].iloc[1:].to_csv(\n",
    "    f,\n",
    "    header=None,\n",
    "    index=None\n",
    ")"
   ]
  },
  {
   "cell_type": "code",
   "execution_count": null,
   "id": "92111d3e",
   "metadata": {},
   "outputs": [],
   "source": []
  }
 ],
 "metadata": {
  "kernelspec": {
   "display_name": "Python 3 (ipykernel)",
   "language": "python",
   "name": "python3"
  },
  "language_info": {
   "codemirror_mode": {
    "name": "ipython",
    "version": 3
   },
   "file_extension": ".py",
   "mimetype": "text/x-python",
   "name": "python",
   "nbconvert_exporter": "python",
   "pygments_lexer": "ipython3",
   "version": "3.10.9"
  }
 },
 "nbformat": 4,
 "nbformat_minor": 5
}
